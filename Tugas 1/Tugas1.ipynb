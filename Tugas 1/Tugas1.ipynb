{
 "cells": [
  {
   "cell_type": "code",
   "execution_count": 6,
   "id": "aaddca69-1c67-4f8f-aeb1-cc853f4a8e4b",
   "metadata": {},
   "outputs": [],
   "source": [
    "import numpy as num\n",
    "import scipy\n",
    "import pandas as pd\n",
    "import matplotlib.pyplot as plt\n",
    "import seaborn as sns\n",
    "from sklearn import datasets"
   ]
  },
  {
   "cell_type": "code",
   "execution_count": 9,
   "id": "cc73e766-ade5-4452-92cc-caac66b4da1e",
   "metadata": {},
   "outputs": [
    {
     "name": "stdout",
     "output_type": "stream",
     "text": [
      "Nama : Mochammad Fajar Maulana\n",
      "NPM : 41155050210004\n"
     ]
    }
   ],
   "source": [
    "print(\"Nama : Mochammad Fajar Maulana\\nNPM : 41155050210004\")"
   ]
  },
  {
   "cell_type": "code",
   "execution_count": null,
   "id": "ae217b0a-7e2a-47c5-9a17-11e1e14cbe9f",
   "metadata": {},
   "outputs": [],
   "source": []
  }
 ],
 "metadata": {
  "kernelspec": {
   "display_name": "Python 3 (ipykernel)",
   "language": "python",
   "name": "python3"
  },
  "language_info": {
   "codemirror_mode": {
    "name": "ipython",
    "version": 3
   },
   "file_extension": ".py",
   "mimetype": "text/x-python",
   "name": "python",
   "nbconvert_exporter": "python",
   "pygments_lexer": "ipython3",
   "version": "3.12.1"
  }
 },
 "nbformat": 4,
 "nbformat_minor": 5
}
