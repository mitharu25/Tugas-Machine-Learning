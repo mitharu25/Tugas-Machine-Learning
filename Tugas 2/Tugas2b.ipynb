{
 "cells": [
  {
   "cell_type": "code",
   "execution_count": 3,
   "id": "34942f63-2ace-4ec5-833a-9b8d26bdfd93",
   "metadata": {},
   "outputs": [
    {
     "name": "stdout",
     "output_type": "stream",
     "text": [
      "Nama : Mochammad Fajar Maulana \n",
      "NPM : 41155050210004\n",
      "\n",
      "Simple Linear Regression\n",
      "• y = x + βx\n",
      "• g(x) = α + βx\n",
      "\n",
      "Multiple Linear Regression\n",
      "• y = a + β₁x1 + β2x2 + … + βnxn + α\n",
      "• g(X) = α + βX\n",
      "\n",
      "Logistic Regression\n",
      "• g(X) = sigmoid(a + ẞX)\n",
      "• sigmoid(x) = 1 / (1 + exp(-x))\n",
      "\n"
     ]
    }
   ],
   "source": [
    "print(\"Nama : Mochammad Fajar Maulana \\nNPM : 41155050210004\")\n",
    "\n",
    "print(\"\"\"\n",
    "Simple Linear Regression\n",
    "• y = x + βx\n",
    "• g(x) = α + βx\n",
    "\n",
    "Multiple Linear Regression\n",
    "• y = a + β₁x1 + β2x2 + … + βnxn + α\n",
    "• g(X) = α + βX\n",
    "\n",
    "Logistic Regression\n",
    "• g(X) = sigmoid(a + ẞX)\n",
    "• sigmoid(x) = 1 / (1 + exp(-x))\n",
    "\"\"\")\n"
   ]
  },
  {
   "cell_type": "code",
   "execution_count": 5,
   "id": "766ab703-7123-41dd-9f3f-b53b391e4ecc",
   "metadata": {},
   "outputs": [
    {
     "name": "stdout",
     "output_type": "stream",
     "text": [
      "Nama : Mochammad Fajar Maulana \n",
      "NPM : 41155050210004\n"
     ]
    },
    {
     "data": {
      "text/html": [
       "<div>\n",
       "<style scoped>\n",
       "    .dataframe tbody tr th:only-of-type {\n",
       "        vertical-align: middle;\n",
       "    }\n",
       "\n",
       "    .dataframe tbody tr th {\n",
       "        vertical-align: top;\n",
       "    }\n",
       "\n",
       "    .dataframe thead th {\n",
       "        text-align: right;\n",
       "    }\n",
       "</style>\n",
       "<table border=\"1\" class=\"dataframe\">\n",
       "  <thead>\n",
       "    <tr style=\"text-align: right;\">\n",
       "      <th></th>\n",
       "      <th>label</th>\n",
       "      <th>sms</th>\n",
       "    </tr>\n",
       "  </thead>\n",
       "  <tbody>\n",
       "    <tr>\n",
       "      <th>0</th>\n",
       "      <td>ham</td>\n",
       "      <td>Go until jurong point, crazy.. Available only ...</td>\n",
       "    </tr>\n",
       "    <tr>\n",
       "      <th>1</th>\n",
       "      <td>ham</td>\n",
       "      <td>Ok lar... Joking wif u oni...</td>\n",
       "    </tr>\n",
       "    <tr>\n",
       "      <th>2</th>\n",
       "      <td>spam</td>\n",
       "      <td>Free entry in 2 a wkly comp to win FA Cup fina...</td>\n",
       "    </tr>\n",
       "    <tr>\n",
       "      <th>3</th>\n",
       "      <td>ham</td>\n",
       "      <td>U dun say so early hor... U c already then say...</td>\n",
       "    </tr>\n",
       "    <tr>\n",
       "      <th>4</th>\n",
       "      <td>ham</td>\n",
       "      <td>Nah I don't think he goes to usf, he lives aro...</td>\n",
       "    </tr>\n",
       "  </tbody>\n",
       "</table>\n",
       "</div>"
      ],
      "text/plain": [
       "  label                                                sms\n",
       "0   ham  Go until jurong point, crazy.. Available only ...\n",
       "1   ham                      Ok lar... Joking wif u oni...\n",
       "2  spam  Free entry in 2 a wkly comp to win FA Cup fina...\n",
       "3   ham  U dun say so early hor... U c already then say...\n",
       "4   ham  Nah I don't think he goes to usf, he lives aro..."
      ]
     },
     "execution_count": 5,
     "metadata": {},
     "output_type": "execute_result"
    }
   ],
   "source": [
    "import pandas as pd\n",
    "\n",
    "print(\"Nama : Mochammad Fajar Maulana \\nNPM : 41155050210004\")\n",
    "\n",
    "df = pd.read_csv('D:/Kuliah/Semester 7/Machine Learning/Tugas2/dataset/SMSSpamCollection',\n",
    "                 sep='\\t',\n",
    "                 header=None,\n",
    "                 names=['label', 'sms'])\n",
    "df.head()"
   ]
  },
  {
   "cell_type": "code",
   "execution_count": 6,
   "id": "ef25b6c1-d361-4255-b2a5-647672512d7c",
   "metadata": {},
   "outputs": [
    {
     "data": {
      "text/plain": [
       "label\n",
       "ham     4825\n",
       "spam     747\n",
       "Name: count, dtype: int64"
      ]
     },
     "execution_count": 6,
     "metadata": {},
     "output_type": "execute_result"
    }
   ],
   "source": [
    "df['label'].value_counts()"
   ]
  },
  {
   "cell_type": "code",
   "execution_count": 10,
   "id": "030fa715-478e-433e-a501-eceab271bd22",
   "metadata": {},
   "outputs": [
    {
     "name": "stdout",
     "output_type": "stream",
     "text": [
      "Nama : Mochammad Fajar Maulana \n",
      "NPM : 41155050210004\n"
     ]
    },
    {
     "data": {
      "text/plain": [
       "array(['ham', 'spam'], dtype='<U4')"
      ]
     },
     "execution_count": 10,
     "metadata": {},
     "output_type": "execute_result"
    }
   ],
   "source": [
    "from sklearn.preprocessing import LabelBinarizer\n",
    "\n",
    "print(\"Nama : Mochammad Fajar Maulana \\nNPM : 41155050210004\")\n",
    "\n",
    "X = df['sms'].values\n",
    "y = df['label'].values\n",
    "\n",
    "lb = LabelBinarizer()\n",
    "y = lb.fit_transform(y).ravel()\n",
    "lb.classes_"
   ]
  },
  {
   "cell_type": "code",
   "execution_count": 12,
   "id": "0280e0f9-b806-49a8-abce-36cd10a45649",
   "metadata": {},
   "outputs": [
    {
     "name": "stdout",
     "output_type": "stream",
     "text": [
      "['Its going good...no problem..but still need little experience to understand american customer voice...'\n",
      " 'U have a secret admirer. REVEAL who thinks U R So special. Call 09065174042. To opt out Reply REVEAL STOP. 1.50 per msg recd. Cust care 07821230901'\n",
      " 'Ok...' ...\n",
      " \"For ur chance to win a £250 cash every wk TXT: ACTION to 80608. T's&C's www.movietrivia.tv custcare 08712405022, 1x150p/wk\"\n",
      " 'R U &SAM P IN EACHOTHER. IF WE MEET WE CAN GO 2 MY HOUSE'\n",
      " 'Mm feeling sleepy. today itself i shall get that dear'] \n",
      "\n",
      "[0 1 0 ... 1 0 0]\n"
     ]
    }
   ],
   "source": [
    "from sklearn.model_selection import train_test_split\n",
    "\n",
    "X_train, X_test, y_train, y_test = train_test_split(X,\n",
    "                                                    y,\n",
    "                                                    test_size=0.25,\n",
    "                                                    random_state=0)\n",
    "print(X_train, '\\n')\n",
    "print(y_train)"
   ]
  },
  {
   "cell_type": "code",
   "execution_count": 15,
   "id": "e0f90e36-dcd8-4f80-8506-b3dfde42db5a",
   "metadata": {},
   "outputs": [
    {
     "name": "stdout",
     "output_type": "stream",
     "text": [
      "Nama : Mochammad Fajar Maulana \n",
      "NPM : 41155050210004\n",
      "<Compressed Sparse Row sparse matrix of dtype 'float64'\n",
      "\twith 32656 stored elements and shape (4179, 7287)>\n",
      "  Coords\tValues\n",
      "  (0, 2997)\t0.23173982975834367\n",
      "  (0, 3007)\t0.21421364306658514\n",
      "  (0, 5123)\t0.308974289326673\n",
      "  (0, 4453)\t0.2297719954323795\n",
      "  (0, 3926)\t0.3126721340000456\n",
      "  (0, 2554)\t0.3825278811525034\n",
      "  (0, 6739)\t0.3546359942830148\n",
      "  (0, 900)\t0.4114867709157148\n",
      "  (0, 2006)\t0.2898082580285881\n",
      "  (0, 6903)\t0.3591386422223876\n",
      "  (1, 5642)\t0.24344998442301355\n",
      "  (1, 799)\t0.25048918791028574\n",
      "  (1, 5441)\t0.5009783758205715\n",
      "  (1, 6472)\t0.24039776602646504\n",
      "  (1, 6013)\t0.20089911182610476\n",
      "  (1, 216)\t0.28902673040368515\n",
      "  (1, 4677)\t0.24039776602646504\n",
      "  (1, 5394)\t0.16464655071448758\n",
      "  (1, 6131)\t0.16142609035094446\n",
      "  (1, 532)\t0.20186022353306565\n",
      "  (1, 4358)\t0.17341410292348694\n",
      "  (1, 5301)\t0.2711077935907125\n",
      "  (1, 2003)\t0.2711077935907125\n",
      "  (1, 1548)\t0.18167737976542422\n",
      "  (1, 36)\t0.28902673040368515\n",
      "  :\t:\n",
      "  (4176, 6792)\t0.1407604617250961\n",
      "  (4176, 6693)\t0.16491299289150899\n",
      "  (4176, 6684)\t0.22114159453800114\n",
      "  (4176, 7083)\t0.19523751585154273\n",
      "  (4176, 1569)\t0.18895085073406012\n",
      "  (4176, 7195)\t0.17892283441772988\n",
      "  (4176, 779)\t0.2811068572055718\n",
      "  (4176, 1612)\t0.21138425595332702\n",
      "  (4176, 365)\t0.2388005587702937\n",
      "  (4176, 7114)\t0.4512018097459442\n",
      "  (4176, 637)\t0.29968668460649284\n",
      "  (4176, 4350)\t0.29968668460649284\n",
      "  (4176, 2004)\t0.25589560236817055\n",
      "  (4176, 107)\t0.29968668460649284\n",
      "  (4176, 343)\t0.2811068572055718\n",
      "  (4177, 3319)\t0.43046342221720785\n",
      "  (4177, 4177)\t0.3636187667918345\n",
      "  (4177, 5565)\t0.5506066649743346\n",
      "  (4177, 2362)\t0.6158854885899457\n",
      "  (4178, 2068)\t0.3055766821331892\n",
      "  (4178, 2641)\t0.3993042639531407\n",
      "  (4178, 6555)\t0.2897850627168302\n",
      "  (4178, 5720)\t0.3963527249882828\n",
      "  (4178, 4279)\t0.4530624713751054\n",
      "  (4178, 5883)\t0.548491137555895\n"
     ]
    }
   ],
   "source": [
    "from sklearn.feature_extraction.text import TfidfVectorizer\n",
    "\n",
    "print(\"Nama : Mochammad Fajar Maulana \\nNPM : 41155050210004\")\n",
    "\n",
    "vectorizer = TfidfVectorizer (stop_words='english')\n",
    "X_train_tfidf = vectorizer.fit_transform(X_train)\n",
    "X_test_tfidf = vectorizer.transform(X_test)\n",
    "\n",
    "print(X_train_tfidf)"
   ]
  },
  {
   "cell_type": "code",
   "execution_count": 19,
   "id": "6f53300e-5b83-4da1-8954-292f8a7eeca5",
   "metadata": {},
   "outputs": [
    {
     "name": "stdout",
     "output_type": "stream",
     "text": [
      "Nama : Mochammad Fajar Maulana \n",
      "NPM : 41155050210004\n",
      "PRED: 0 SMS: Storming msg: Wen u lift d phne, u say \"HELLO\" Do u knw wt is d real meaning of HELLO?? . . . It's d name of a girl..! . . . Yes.. And u knw who is dat girl?? \"Margaret Hello\" She is d girlfrnd f Grahmbell who invnted telphone... . . . . Moral:One can 4get d name of a person, bt not his girlfrnd... G o o d n i g h t . . .@\n",
      "\n",
      "PRED: 0 SMS: <Forwarded from 448712404000>Please CALL 08712404000 immediately as there is an urgent message waiting for you.\n",
      "\n",
      "PRED: 0 SMS: And also I've sorta blown him off a couple times recently so id rather not text him out of the blue looking for weed\n",
      "\n",
      "PRED: 0 SMS: Sir Goodmorning, Once free call me.\n",
      "\n",
      "PRED: 0 SMS: All will come alive.better correct any good looking figure there itself..\n",
      "\n"
     ]
    }
   ],
   "source": [
    "from sklearn.linear_model import LogisticRegression\n",
    "\n",
    "print(\"Nama : Mochammad Fajar Maulana \\nNPM : 41155050210004\")\n",
    "\n",
    "model = LogisticRegression()\n",
    "model.fit(X_train_tfidf, y_train)\n",
    "y_pred = model.predict(X_test_tfidf)\n",
    "\n",
    "for pred, sms in zip(y_pred[:5], X_test[:5]):\n",
    "    print(f'PRED: {pred} SMS: {sms}\\n')"
   ]
  },
  {
   "cell_type": "code",
   "execution_count": 21,
   "id": "51dec1fc-836b-4de3-926a-56175427df6d",
   "metadata": {},
   "outputs": [
    {
     "name": "stdout",
     "output_type": "stream",
     "text": [
      "Nama : Mochammad Fajar Maulana \n",
      "NPM : 41155050210004\n",
      "\n",
      "Evaluation Metrics pada Binary Classification\n",
      "• Confusion Matrix\n",
      "• Accuracy\n",
      "• Precision & Recall\n",
      "• F1 Score\n",
      "• ROC\n",
      "\n",
      "Terminologi Dasar\n",
      "• True Positive (TP) contoh \n",
      "• True Negative (TN)\n",
      "• False Positive (FP)\n",
      "• False Negative (FN)\n",
      "\n"
     ]
    }
   ],
   "source": [
    "print(\"Nama : Mochammad Fajar Maulana \\nNPM : 41155050210004\")\n",
    "\n",
    "print(\"\"\"\n",
    "Evaluation Metrics pada Binary Classification\n",
    "• Confusion Matrix\n",
    "• Accuracy\n",
    "• Precision & Recall\n",
    "• F1 Score\n",
    "• ROC\n",
    "\n",
    "Terminologi Dasar\n",
    "• True Positive (TP) contoh \n",
    "• True Negative (TN)\n",
    "• False Positive (FP)\n",
    "• False Negative (FN)\n",
    "\"\"\")\n"
   ]
  },
  {
   "cell_type": "code",
   "execution_count": 22,
   "id": "9faf67fb-c9f9-4125-abd7-8265762abd74",
   "metadata": {},
   "outputs": [
    {
     "name": "stdout",
     "output_type": "stream",
     "text": [
      "Nama : Mochammad Fajar Maulana \n",
      "NPM : 41155050210004\n"
     ]
    },
    {
     "data": {
      "text/plain": [
       "array([[1207,    1],\n",
       "       [  47,  138]])"
      ]
     },
     "execution_count": 22,
     "metadata": {},
     "output_type": "execute_result"
    }
   ],
   "source": [
    "from sklearn.metrics import confusion_matrix\n",
    "\n",
    "print(\"Nama : Mochammad Fajar Maulana \\nNPM : 41155050210004\")\n",
    "\n",
    "matrix = confusion_matrix(y_test, y_pred)\n",
    "matrix"
   ]
  },
  {
   "cell_type": "code",
   "execution_count": 23,
   "id": "492e9ce1-ea7e-4051-bcb5-199b54cd8d08",
   "metadata": {},
   "outputs": [
    {
     "name": "stdout",
     "output_type": "stream",
     "text": [
      "TN: 1207\n",
      "FP: 1\n",
      "FN: 47\n",
      "TP: 138\n"
     ]
    }
   ],
   "source": [
    "tn, fp, fn, tp = matrix.ravel()\n",
    "\n",
    "print(f'TN: {tn}')\n",
    "print(f'FP: {fp}')\n",
    "print(f'FN: {fn}')\n",
    "print(f'TP: {tp}')"
   ]
  },
  {
   "cell_type": "code",
   "execution_count": 24,
   "id": "51b4ce66-5911-4502-9a4c-92467e63b849",
   "metadata": {},
   "outputs": [
    {
     "data": {
      "image/png": "[encoded data removed]",
      "text/plain": [
       "<Figure size 480x480 with 2 Axes>"
      ]
     },
     "metadata": {},
     "output_type": "display_data"
    }
   ],
   "source": [
    "import matplotlib.pyplot as plt\n",
    "\n",
    "plt.matshow(matrix)\n",
    "plt.colorbar()\n",
    "plt.title('Confusion Matrix')\n",
    "plt.ylabel('True label')\n",
    "plt.xlabel('Predicted label')\n",
    "plt.show()"
   ]
  },
  {
   "cell_type": "code",
   "execution_count": 26,
   "id": "29d0db76-054a-4e9e-ac46-87294a1e6326",
   "metadata": {},
   "outputs": [
    {
     "name": "stdout",
     "output_type": "stream",
     "text": [
      "Nama : Mochammad Fajar Maulana \n",
      "NPM : 41155050210004\n",
      "\n"
     ]
    },
    {
     "data": {
      "text/plain": [
       "0.9655419956927495"
      ]
     },
     "execution_count": 26,
     "metadata": {},
     "output_type": "execute_result"
    }
   ],
   "source": [
    "from sklearn.metrics import accuracy_score\n",
    "\n",
    "print(\"Nama : Mochammad Fajar Maulana \\nNPM : 41155050210004\\n\")\n",
    "\n",
    "accuracy_score(y_test, y_pred)"
   ]
  },
  {
   "cell_type": "code",
   "execution_count": 27,
   "id": "6295a1ed-224a-486a-9bbc-ca2aacab42b5",
   "metadata": {},
   "outputs": [
    {
     "name": "stdout",
     "output_type": "stream",
     "text": [
      "Nama : Mochammad Fajar Maulana \n",
      "NPM : 41155050210004\n",
      "\n"
     ]
    },
    {
     "data": {
      "text/plain": [
       "np.float64(0.9928057553956835)"
      ]
     },
     "execution_count": 27,
     "metadata": {},
     "output_type": "execute_result"
    }
   ],
   "source": [
    "from sklearn.metrics import precision_score\n",
    "\n",
    "print(\"Nama : Mochammad Fajar Maulana \\nNPM : 41155050210004\\n\")\n",
    "\n",
    "precision_score(y_test, y_pred)"
   ]
  },
  {
   "cell_type": "code",
   "execution_count": 28,
   "id": "0314b541-a62c-442e-8156-10c0428260b6",
   "metadata": {},
   "outputs": [
    {
     "data": {
      "text/plain": [
       "np.float64(0.745945945945946)"
      ]
     },
     "execution_count": 28,
     "metadata": {},
     "output_type": "execute_result"
    }
   ],
   "source": [
    "from sklearn.metrics import recall_score\n",
    "\n",
    "recall_score(y_test, y_pred)"
   ]
  },
  {
   "cell_type": "code",
   "execution_count": 29,
   "id": "a61a3807-60bf-42f1-9ec5-8921e866b3cb",
   "metadata": {},
   "outputs": [
    {
     "name": "stdout",
     "output_type": "stream",
     "text": [
      "Nama : Mochammad Fajar Maulana \n",
      "NPM : 41155050210004\n",
      "\n"
     ]
    },
    {
     "data": {
      "text/plain": [
       "np.float64(0.8518518518518519)"
      ]
     },
     "execution_count": 29,
     "metadata": {},
     "output_type": "execute_result"
    }
   ],
   "source": [
    "from sklearn.metrics import f1_score\n",
    "\n",
    "print(\"Nama : Mochammad Fajar Maulana \\nNPM : 41155050210004\\n\")\n",
    "\n",
    "f1_score(y_test, y_pred)"
   ]
  },
  {
   "cell_type": "code",
   "execution_count": 31,
   "id": "ed233d88-2526-4cce-add6-1898edd962b2",
   "metadata": {},
   "outputs": [
    {
     "name": "stdout",
     "output_type": "stream",
     "text": [
      "Nama : Mochammad Fajar Maulana \n",
      "NPM : 41155050210004\n",
      "\n"
     ]
    },
    {
     "data": {
      "image/png": "[encoded data removed]",
      "text/plain": [
       "<Figure size 640x480 with 1 Axes>"
      ]
     },
     "metadata": {},
     "output_type": "display_data"
    }
   ],
   "source": [
    "from sklearn.metrics import roc_curve, auc\n",
    "\n",
    "print(\"Nama : Mochammad Fajar Maulana \\nNPM : 41155050210004\\n\")\n",
    "\n",
    "prob_estimates = model.predict_proba (X_test_tfidf)\n",
    "fpr, tpr, threshhold = roc_curve (y_test, prob_estimates[:, 1]) \n",
    "nilai_auc = auc (fpr, tpr)\n",
    "\n",
    "plt.plot(fpr, tpr, 'b', label=f'AUC={nilai_auc}')\n",
    "plt.plot([0,1], [0,1], 'r--', label='Random Classifier')\n",
    "\n",
    "plt.title('ROC: Receiver Operating Characteristic')\n",
    "plt.xlabel('Fallout or False Positive Rate')\n",
    "plt.ylabel('Recall or True Positive Rate')\n",
    "plt.legend()\n",
    "plt.show()"
   ]
  },
  {
   "cell_type": "code",
   "execution_count": null,
   "id": "768c10f4-c595-473f-a6fd-b15fad104144",
   "metadata": {},
   "outputs": [],
   "source": []
  }
 ],
 "metadata": {
  "kernelspec": {
   "display_name": "Python 3 (ipykernel)",
   "language": "python",
   "name": "python3"
  },
  "language_info": {
   "codemirror_mode": {
    "name": "ipython",
    "version": 3
   },
   "file_extension": ".py",
   "mimetype": "text/x-python",
   "name": "python",
   "nbconvert_exporter": "python",
   "pygments_lexer": "ipython3",
   "version": "3.12.1"
  }
 },
 "nbformat": 4,
 "nbformat_minor": 5
}
